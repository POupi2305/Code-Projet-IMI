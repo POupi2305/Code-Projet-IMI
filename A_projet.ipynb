{
  "nbformat": 4,
  "nbformat_minor": 0,
  "metadata": {
    "colab": {
      "provenance": []
    },
    "kernelspec": {
      "name": "python3",
      "display_name": "Python 3"
    },
    "language_info": {
      "name": "python"
    }
  },
  "cells": [
    {
      "cell_type": "code",
      "source": [
        "import math\n",
        "import numpy as np"
      ],
      "metadata": {
        "id": "pzwKf1lY4puH"
      },
      "execution_count": null,
      "outputs": []
    },
    {
      "cell_type": "code",
      "execution_count": null,
      "metadata": {
        "id": "IOt1AEKY4LSx"
      },
      "outputs": [],
      "source": [
        "\n",
        "def simulate_paths(M, N, r, vol, S, K, dt):  #same problem here\n",
        "    def pay_off(n, S):\n",
        "        return np.exp(-r * n * dt) * np.maximum(0, K - S)\n",
        "\n",
        "    nudt = (r - 0.5 * vol**2) * dt\n",
        "    volsdt = vol * np.sqrt(dt)\n",
        "    lnS = np.log(S)\n",
        "\n",
        "    # Méthode de Monte Carlo\n",
        "    Z = np.random.normal(size=(M, N))\n",
        "    delta_lnSt = nudt + volsdt * Z\n",
        "    delta_lnSt_anti = nudt - volsdt * Z\n",
        "\n",
        "    LnS_s = np.zeros([M, N + 1])\n",
        "    LnS_s_anti= np.zeros([M, N + 1])\n",
        "\n",
        "\n",
        "    # Set the initial values\n",
        "    LnS_s[:, 0] = lnS\n",
        "    LnS_s_anti[:, 0] = lnS\n",
        "\n",
        "    # Compute cumulative sums using cumsum\n",
        "    LnS_s[:, 1:] = np.cumsum(delta_lnSt, axis=1)\n",
        "    LnS_s[:,1:] +=lnS\n",
        "\n",
        "    LnS_s_anti[:, 1:] = np.cumsum(delta_lnSt_anti, axis=1)\n",
        "    LnS_s_anti[:,1:] +=lnS\n",
        "\n",
        "    X = np.vstack((np.exp(LnS_s),np.exp(LnS_s_anti)))\n",
        "    P = np.zeros_like(X)\n",
        "    for n in range(N + 1):\n",
        "        P[:, n] = pay_off(n, X[:, n])\n",
        "    return X, P\n",
        "\n",
        "S = 36          # Prix de l'action\n",
        "K = 40          # Prix d'exercice\n",
        "vol = 0.2        # Volatilité (%)\n",
        "r = 0.06            # Taux sans risque (%)\n",
        "                     #Pour Delta t\n",
        "\n",
        "M=100\n",
        "Tf = 1 #date d'echeance\n",
        "N=50 #nombre de point d'execution avec T0=0 et TN=Tf.\n",
        "dt=Tf/N\n",
        "T = np.arange(0,N+1,1) #contient T0,T1,T2,....Tf.\n",
        "\n",
        "\n",
        "\n",
        "\n",
        "\n",
        "X,Z=simulate_paths(M, N, r, vol, S, K, dt)\n",
        "Z0=Z[0,0]\n"
      ]
    },
    {
      "cell_type": "code",
      "source": [
        "def laguerre_basis(x, n):\n",
        "      # Constant term\n",
        "        return np.exp(-x / 2) * np.polynomial.Laguerre([0] * n + [1])(x)\n"
      ],
      "metadata": {
        "id": "euKcH5QJyEIE"
      },
      "execution_count": null,
      "outputs": []
    },
    {
      "cell_type": "code",
      "source": [
        "\n",
        "from sklearn.linear_model import LinearRegression\n",
        "\n",
        "#Here where we save the discounted value of the bermudan option for each path\n",
        "U=np.zeros([2*M,1]) #M\n",
        "U=np.copy(Z[:,N].reshape(-1,1) ) #N is equivalent to say it's TN\n",
        "\n",
        "# Create the design matrix with Laguerre polynomials\n",
        "degree = 5\n",
        "# Regression of U[in_money_indexes] w.r.t. paths_needed using Laguerre polynomials\n",
        "model = LinearRegression()\n",
        "\n",
        "for t in range(N-1, 0, -1):\n",
        "    in_money_indexes = np.where(Z[:, t] > 0)[0]\n",
        "    N_paths = len(in_money_indexes)\n",
        "    paths_needed = X[in_money_indexes, t]\n",
        "\n",
        "\n",
        "    # Create the design matrix with Laguerre polynomials and a column of ones\n",
        "    if len(paths_needed) > 0:\n",
        "      # Create the design matrix with Laguerre polynomials and a column of ones\n",
        "      design_matrix = np.column_stack([laguerre_basis(paths_needed, i).reshape(-1, 1) for i in range(degree)])\n",
        "\n",
        "      # Add a column of ones\n",
        "      design_matrix = np.column_stack([np.ones(len(paths_needed)).reshape(-1,1),design_matrix])\n",
        "\n",
        "      model.fit(design_matrix, U[in_money_indexes])\n",
        "\n",
        "\n",
        "      # reg = np.polyfit(paths_needed,U[in_money_indexes], 7)\n",
        "      # C_t = np.polyval(reg, paths_needed)\n",
        "\n",
        "      # Predict the continuation values\n",
        "      C_t = model.predict(design_matrix)\n",
        "\n",
        "      # Update U for paths where C_t < Z[in_money_indexes, t]\n",
        "      U[in_money_indexes] = np.where(C_t.reshape(-1, 1) > Z[in_money_indexes, t].reshape(-1, 1), U[in_money_indexes], Z[in_money_indexes, t].reshape(-1, 1))\n",
        "\n",
        "\n",
        "\n",
        "\n",
        "# Calculate the approximate price at time 0 of the option\n",
        "U0 = np.mean(U)\n",
        "\n",
        "\n",
        "print(f\"Approximate option price at time 0: {U0}\")\n",
        "#I think the error is caused by the discount that I did,\n"
      ],
      "metadata": {
        "colab": {
          "base_uri": "https://localhost:8080/"
        },
        "id": "_sDyWNnt-dZn",
        "outputId": "24eb55f5-9fa9-4db9-eafa-2170331f3200"
      },
      "execution_count": null,
      "outputs": [
        {
          "output_type": "stream",
          "name": "stdout",
          "text": [
            "Approximate option price at time 0: 4.468215283435618\n"
          ]
        }
      ]
    },
    {
      "cell_type": "markdown",
      "source": [
        "In our regression problem we used as a  basis functions is the set of\n",
        "Laguerre polynomials until degree 5.\n",
        "\n",
        "And with 50,000 plus 50,000 antithetic simulated path of the underlying asset price.\n",
        "With the identical parameters of the article [4] (page 127 , first row ) the american option approximate price we got is  4.468215283435618 , that we compare with the results of article [4] which are 4.472 .\n",
        "\n",
        "The results we obtained are very close to those reported in the article.\n",
        "\n"
      ],
      "metadata": {
        "id": "v9bPtqzHrGdO"
      }
    }
  ]
}