{
  "cells": [
    {
      "cell_type": "code",
      "execution_count": 1,
      "metadata": {
        "id": "82Mw5A6Z-2fL"
      },
      "outputs": [],
      "source": [
        "import math\n",
        "import numpy as np\n",
        "import tensorflow as tf\n",
        "from tensorflow.keras import layers\n",
        "from tensorflow.keras import backend as Ker"
      ]
    },
    {
      "cell_type": "markdown",
      "metadata": {
        "id": "wg329YdVsT_e"
      },
      "source": [
        "**I Simulation des chemins**"
      ]
    },
    {
      "cell_type": "code",
      "execution_count": 2,
      "metadata": {
        "id": "6C0hLAlisT_i"
      },
      "outputs": [],
      "source": [
        "\n",
        "def pay_off(S, r, K, dt):\n",
        "    return tf.maximum(0.0, K - S)\n",
        "\n",
        "def simulate_paths_(M, T, n, r, vol, S_initial, K, dt):\n",
        "    nudt = (r - 0.5 * vol**2) * dt\n",
        "    lnS = tf.math.log(S_initial)  # Log of the initial stock price\n",
        "\n",
        "    # Generate normal random variables for the Monte Carlo simulation\n",
        "    random =  tf.random.normal([M, 2*n]) #to be sure that they ll be independent\n",
        "    Lw = tf.sqrt(0.5*dt)*random[:, n:2*n]\n",
        "    dW = tf.sqrt(dt) * random[:,:n]\n",
        "\n",
        "    # Compute the increments using the generated random variables\n",
        "    delta_lnSt = nudt + vol * dW\n",
        "\n",
        "    # Initialize and fill in the log prices\n",
        "    LnS_s = tf.TensorArray(dtype=tf.float32, size=n+1, dynamic_size=False, clear_after_read=False)\n",
        "    LnS_s = LnS_s.write(0, tf.fill([M], lnS))\n",
        "\n",
        "    for j in range(1, n + 1):\n",
        "        previous_values = LnS_s.read(j - 1)\n",
        "        current_values = previous_values + delta_lnSt[:, j-1]\n",
        "        LnS_s = LnS_s.write(j, current_values)\n",
        "\n",
        "    # Convert log prices back to normal prices\n",
        "    final_LnS_s = LnS_s.stack()\n",
        "    S = tf.exp(tf.transpose(final_LnS_s))\n",
        "    return S, dW , Lw\n",
        "\n",
        "# Parameters\n",
        "M = 100000  # Number of simulations\n",
        "n = 50  # Number of steps\n",
        "T = 1\n",
        "dt = T / n\n",
        "r = 0.06  # Risk-free rate\n",
        "vol = 0.2  # Volatility\n",
        "S_initial = 36.0  # Initial stock price\n",
        "K=40.0\n",
        "# Run the simulation\n",
        "S, dW , Lw = simulate_paths_(M, T, n, r, vol, S_initial, K, dt)"
      ]
    },
    {
      "cell_type": "code",
      "execution_count": 3,
      "metadata": {
        "id": "oM8nUqdfsT_j"
      },
      "outputs": [],
      "source": [
        "X = tf.Variable(tf.zeros([M, n+1], dtype=tf.float32))\n",
        "Y = tf.Variable(tf.zeros([M, n+1], dtype=tf.float32))\n",
        "X_last_col = pay_off(S[:, n], r, K, dt)\n",
        "X[:, n].assign(X_last_col)\n",
        "Y[:, n].assign(X_last_col)\n",
        "beta_dt = tf.exp(-r * dt)"
      ]
    },
    {
      "cell_type": "markdown",
      "metadata": {
        "id": "L8deHLlOsT_k"
      },
      "source": [
        "**II Construction et entrainement du modèle**"
      ]
    },
    {
      "cell_type": "code",
      "execution_count": 4,
      "metadata": {
        "colab": {
          "base_uri": "https://localhost:8080/"
        },
        "id": "tdArfBlQsT_k",
        "outputId": "af7c4e7e-64f3-4e20-99d7-cc495e3674d4"
      },
      "outputs": [
        {
          "output_type": "stream",
          "name": "stdout",
          "text": [
            "Model: \"three_param_model\"\n",
            "__________________________________________________________________________________________________\n",
            " Layer (type)                Output Shape                 Param #   Connected to                  \n",
            "==================================================================================================\n",
            " input_1 (InputLayer)        [(None, 1)]                  0         []                            \n",
            "                                                                                                  \n",
            " dense_22 (Dense)            (None, 100)                  200       ['input_1[0][0]']             \n",
            "                                                                                                  \n",
            " dense_15 (Dense)            (None, 100)                  200       ['input_1[0][0]']             \n",
            "                                                                                                  \n",
            " dense_23 (Dense)            (None, 100)                  10100     ['dense_22[0][0]']            \n",
            "                                                                                                  \n",
            " dense_9 (Dense)             (None, 100)                  200       ['input_1[0][0]']             \n",
            "                                                                                                  \n",
            " dense_16 (Dense)            (None, 100)                  10100     ['dense_15[0][0]']            \n",
            "                                                                                                  \n",
            " dense_24 (Dense)            (None, 100)                  10100     ['dense_23[0][0]']            \n",
            "                                                                                                  \n",
            " dense_4 (Dense)             (None, 100)                  200       ['input_1[0][0]']             \n",
            "                                                                                                  \n",
            " dense_10 (Dense)            (None, 100)                  10100     ['dense_9[0][0]']             \n",
            "                                                                                                  \n",
            " dense_17 (Dense)            (None, 100)                  10100     ['dense_16[0][0]']            \n",
            "                                                                                                  \n",
            " dense_25 (Dense)            (None, 100)                  10100     ['dense_24[0][0]']            \n",
            "                                                                                                  \n",
            " dense (Dense)               (None, 100)                  200       ['input_1[0][0]']             \n",
            "                                                                                                  \n",
            " dense_5 (Dense)             (None, 100)                  10100     ['dense_4[0][0]']             \n",
            "                                                                                                  \n",
            " dense_11 (Dense)            (None, 100)                  10100     ['dense_10[0][0]']            \n",
            "                                                                                                  \n",
            " dense_18 (Dense)            (None, 100)                  10100     ['dense_17[0][0]']            \n",
            "                                                                                                  \n",
            " dense_26 (Dense)            (None, 100)                  10100     ['dense_25[0][0]']            \n",
            "                                                                                                  \n",
            " dense_1 (Dense)             (None, 100)                  10100     ['dense[0][0]']               \n",
            "                                                                                                  \n",
            " dense_6 (Dense)             (None, 100)                  10100     ['dense_5[0][0]']             \n",
            "                                                                                                  \n",
            " dense_12 (Dense)            (None, 100)                  10100     ['dense_11[0][0]']            \n",
            "                                                                                                  \n",
            " dense_19 (Dense)            (None, 100)                  10100     ['dense_18[0][0]']            \n",
            "                                                                                                  \n",
            " dense_27 (Dense)            (None, 100)                  10100     ['dense_26[0][0]']            \n",
            "                                                                                                  \n",
            " dense_2 (Dense)             (None, 100)                  10100     ['dense_1[0][0]']             \n",
            "                                                                                                  \n",
            " dense_7 (Dense)             (None, 100)                  10100     ['dense_6[0][0]']             \n",
            "                                                                                                  \n",
            " dense_13 (Dense)            (None, 100)                  10100     ['dense_12[0][0]']            \n",
            "                                                                                                  \n",
            " dense_20 (Dense)            (None, 100)                  10100     ['dense_19[0][0]']            \n",
            "                                                                                                  \n",
            " dense_28 (Dense)            (None, 100)                  10100     ['dense_27[0][0]']            \n",
            "                                                                                                  \n",
            " dense_3 (Dense)             (None, 1)                    101       ['dense_2[0][0]']             \n",
            "                                                                                                  \n",
            " dense_8 (Dense)             (None, 1)                    101       ['dense_7[0][0]']             \n",
            "                                                                                                  \n",
            " dense_14 (Dense)            (None, 1)                    101       ['dense_13[0][0]']            \n",
            "                                                                                                  \n",
            " dense_21 (Dense)            (None, 1)                    101       ['dense_20[0][0]']            \n",
            "                                                                                                  \n",
            " dense_29 (Dense)            (None, 1)                    101       ['dense_28[0][0]']            \n",
            "                                                                                                  \n",
            " concatenate (Concatenate)   (None, 5)                    0         ['dense_3[0][0]',             \n",
            "                                                                     'dense_8[0][0]',             \n",
            "                                                                     'dense_14[0][0]',            \n",
            "                                                                     'dense_21[0][0]',            \n",
            "                                                                     'dense_29[0][0]']            \n",
            "                                                                                                  \n",
            "==================================================================================================\n",
            "Total params: 203505 (794.94 KB)\n",
            "Trainable params: 203505 (794.94 KB)\n",
            "Non-trainable params: 0 (0.00 Byte)\n",
            "__________________________________________________________________________________________________\n"
          ]
        }
      ],
      "source": [
        "\n",
        "\n",
        "with tf.device('/GPU:0'):\n",
        "    inputs = tf.keras.Input(shape=(1,))\n",
        "\n",
        "\n",
        "    x1 = layers.Dense(100, activation=\"relu\")(inputs)\n",
        "    x1 = layers.Dense(100, activation=\"relu\")(x1)\n",
        "    x1 = layers.Dense(100, activation=\"relu\")(x1)\n",
        "    x1 = layers.Dense(1)(x1)\n",
        "\n",
        "    x2 = layers.Dense(100, activation=\"relu\")(inputs)\n",
        "    x2 = layers.Dense(100, activation=\"relu\")(x2)\n",
        "    x2 = layers.Dense(100, activation=\"relu\")(x2)\n",
        "    x2 = layers.Dense(100, activation=\"relu\")(x2)\n",
        "    x2 = layers.Dense(1)(x2)\n",
        "\n",
        "    x3 = layers.Dense(100, activation=\"relu\")(inputs)\n",
        "    x3 = layers.Dense(100, activation=\"relu\")(x3)\n",
        "    x3 = layers.Dense(100, activation=\"relu\")(x3)\n",
        "    x3 = layers.Dense(100, activation=\"relu\")(x3)\n",
        "    x3 = layers.Dense(100, activation=\"relu\")(x3)\n",
        "    x3 = layers.Dense(1)(x3)\n",
        "\n",
        "\n",
        "    x4 = layers.Dense(100, activation=\"relu\")(inputs)\n",
        "    x4 = layers.Dense(100, activation=\"relu\")(x4)\n",
        "    x4 = layers.Dense(100, activation=\"relu\")(x4)\n",
        "    x4 = layers.Dense(100, activation=\"relu\")(x4)\n",
        "    x4 = layers.Dense(100, activation=\"relu\")(x4)\n",
        "    x4 = layers.Dense(100, activation=\"relu\")(x4)\n",
        "    x4 = layers.Dense(1)(x4)\n",
        "\n",
        "    x5 = layers.Dense(100, activation=\"relu\")(inputs)\n",
        "    x5 = layers.Dense(100, activation=\"relu\")(x5)\n",
        "    x5 = layers.Dense(100, activation=\"relu\")(x5)\n",
        "    x5 = layers.Dense(100, activation=\"relu\")(x5)\n",
        "    x5 = layers.Dense(100, activation=\"relu\")(x5)\n",
        "    x5 = layers.Dense(100, activation=\"relu\")(x5)\n",
        "    x5 = layers.Dense(100, activation=\"relu\")(x5)\n",
        "    x5 = layers.Dense(1)(x5)\n",
        "\n",
        "\n",
        "    outputs = layers.concatenate([x1, x2, x3 , x4, x5])\n",
        "\n",
        "\n",
        "    model = tf.keras.Model(inputs=inputs, outputs=outputs, name=\"three_param_model\")\n",
        "\n",
        "    model.summary()\n",
        "\n",
        "    def custom_loss(y_true, y_pred):\n",
        "        Y_true = y_true[:, 0]\n",
        "        dW_true = y_true[:, 1]\n",
        "        dW_true_2 = tf.square(dW_true)\n",
        "        term_2 =  dW_true_2 - dt\n",
        "        term_4 = dW_true*((1/3)*dW_true_2 - dt)\n",
        "\n",
        "        squared_difference = tf.square(Y_true - (y_pred[:, 0] + dW_true * y_pred[:, 1] + term_2 * y_pred[:, 2]+ y_true[ : , 2]*y_pred[ : , 3] + term_4*y_pred[ : , 4]) )\n",
        "        custom_loss_value = tf.reduce_mean(squared_difference)\n",
        "\n",
        "        return custom_loss_value\n",
        "\n",
        "    model.compile(optimizer='adam', loss=custom_loss)\n"
      ]
    },
    {
      "cell_type": "code",
      "execution_count": 5,
      "metadata": {
        "id": "UmhBhS8ssT_l"
      },
      "outputs": [],
      "source": [
        "def clone_model(model):\n",
        "    new_model = tf.keras.models.clone_model(model)\n",
        "    new_model.compile(optimizer=model.optimizer, loss=model.loss)\n",
        "    new_model.set_weights(model.get_weights())\n",
        "    return new_model\n"
      ]
    },
    {
      "cell_type": "code",
      "execution_count": 6,
      "metadata": {
        "id": "oXPlz9x6sT_n",
        "colab": {
          "base_uri": "https://localhost:8080/"
        },
        "outputId": "ea46ba09-59ec-4d8b-daba-76e542edeca6"
      },
      "outputs": [
        {
          "output_type": "stream",
          "name": "stdout",
          "text": [
            "We are currently 0.19999999999999996 complete\n",
            "We are currently 0.4 complete\n",
            "We are currently 0.6 complete\n",
            "We are currently 0.8 complete\n",
            "32/32 [==============================] - 0s 3ms/step\n"
          ]
        }
      ],
      "source": [
        "\n",
        "List = []  # List to hold model copies\n",
        "\n",
        "with tf.device('/GPU:0'):\n",
        "    num_batch = 256\n",
        "    epoch_size = 10\n",
        "    for i in range(n-1, 0, -1):\n",
        "        # Clone and save the current model state before re-training\n",
        "        model_copy = clone_model(model)\n",
        "        List.append(model_copy)\n",
        "\n",
        "        concatenated_outputs = tf.concat([beta_dt * Y[:, i+1:i+2], dW[:, i:i+1] , Lw[:,i:i+1]], axis=1)\n",
        "        model.fit(S[:, i:i+1], concatenated_outputs, epochs=epoch_size, batch_size=num_batch, validation_split=0.1, verbose=0)\n",
        "        outputs = model.predict(S[:, i:i+1], verbose=0)\n",
        "        psi_S = outputs[:, 1]\n",
        "        phi_S = outputs[:, 0]\n",
        "        psi_S_2= outputs[:,2]\n",
        "        gamma_1 = outputs[:,3]\n",
        "        gamma_2 = outputs[:,4]\n",
        "\n",
        "        #to be faster :\n",
        "        dW_true = dW[:, i]\n",
        "        dW_true_2 = tf.square(dW_true)\n",
        "        term_4 =  dW_true*((1/3)*dW_true_2 - dt)\n",
        "\n",
        "        X[:, i].assign(beta_dt * X[:, i+1] - psi_S * dW_true-psi_S_2*(dW_true_2 - dt)-gamma_1 * Lw[:,i]-gamma_2*term_4)\n",
        "        Y[:, i].assign(beta_dt * Y[:, i+1] - psi_S * dW_true-psi_S_2*(dW_true_2 - dt)-gamma_1 * Lw[:,i]-gamma_2*term_4)\n",
        "\n",
        "        Z = pay_off(S[:, i], r, K, dt)\n",
        "        Y[:, i].assign(tf.where(Z > phi_S, Z, Y[:, i]))\n",
        "        X[:, i].assign(tf.where(Z > X[:, i], Z, X[:, i]))\n",
        "\n",
        "        if i % 10 == 0:\n",
        "            print(\"We are currently\",1-i/50,\"complete\")\n",
        "    i = 0\n",
        "    concatenated_outputs = tf.concat([beta_dt * Y[:, i+1:i+2], dW[:, i:i+1] , Lw[:, i:i+1]], axis=1)\n",
        "    model.fit(S[:, i:i+1], concatenated_outputs, epochs=epoch_size, batch_size=num_batch, validation_split=0.1, verbose=0)\n",
        "    outputs = model.predict(S[:, i:i+1])\n",
        "\n",
        "    psi_S = outputs[:, 1]\n",
        "    phi_S = outputs[:, 0]\n",
        "    psi_S_2= outputs[:, 2]\n",
        "    gamma_1 = outputs[:,3]\n",
        "    gamma_2 = outputs[:,4]\n",
        "\n",
        "    #to be faster :\n",
        "    dW_true = dW[:, i]\n",
        "    dW_true_2 = tf.square(dW_true)\n",
        "    term_4 =  dW_true*((1/3)*dW_true_2 - dt)\n",
        "\n",
        "    X[:, i].assign(beta_dt * X[:, i+1] - psi_S * dW_true-psi_S_2*(dW_true_2 - dt)-gamma_1 * Lw[:,i]-gamma_2*term_4)\n",
        "    Y[:, i].assign(beta_dt * Y[:, i+1] - psi_S * dW_true-psi_S_2*(dW_true_2 - dt)-gamma_1 * Lw[:,i]-gamma_2*term_4)\n",
        "\n",
        "    final_model_copy = clone_model(model)\n",
        "    List.append(final_model_copy)\n"
      ]
    },
    {
      "cell_type": "code",
      "execution_count": 7,
      "metadata": {
        "id": "PedLNxHcsT_o",
        "colab": {
          "base_uri": "https://localhost:8080/"
        },
        "outputId": "5cc2fb66-0475-4643-8ba5-e9892d3d01b2"
      },
      "outputs": [
        {
          "output_type": "stream",
          "name": "stdout",
          "text": [
            "5.353932\n",
            "4.277478\n",
            "1.0764537\n"
          ]
        }
      ],
      "source": [
        "u0=np.mean(X[:,0])\n",
        "l0=np.mean(Y[:,0])\n",
        "print(u0)\n",
        "print(l0)\n",
        "print(np.abs(u0-l0))"
      ]
    }
  ],
  "metadata": {
    "colab": {
      "provenance": []
    },
    "kernelspec": {
      "display_name": "Python 3",
      "name": "python3"
    },
    "language_info": {
      "codemirror_mode": {
        "name": "ipython",
        "version": 3
      },
      "file_extension": ".py",
      "mimetype": "text/x-python",
      "name": "python",
      "nbconvert_exporter": "python",
      "pygments_lexer": "ipython3",
      "version": "3.10.14"
    }
  },
  "nbformat": 4,
  "nbformat_minor": 0
}